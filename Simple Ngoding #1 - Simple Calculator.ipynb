{
 "cells": [
  {
   "cell_type": "markdown",
   "metadata": {},
   "source": [
    "## Kalkulator Sederhana"
   ]
  },
  {
   "cell_type": "code",
   "execution_count": 26,
   "metadata": {},
   "outputs": [
    {
     "name": "stdout",
     "output_type": "stream",
     "text": [
      "Selamat Datang pada Kalkulator Sederhana\n",
      "Masukkan Nilai Pertama: 3\n",
      "Masukkan Nilai Kedua: 7\n",
      "Pilih Operator (+, -, *, /):*\n",
      "Hasil perhitungan dari 3 * 7 adalah:  21\n"
     ]
    }
   ],
   "source": [
    "print('Selamat Datang pada Kalkulator Sederhana')\n",
    "a = int(input('Masukkan Nilai Pertama: '))\n",
    "b = int(input('Masukkan Nilai Kedua: '))\n",
    "operator = str(input('Pilih Operator (+, -, *, /):'))\n",
    "\n",
    "if operator == '+':\n",
    "    hasil = a + b\n",
    "elif operator == '-':\n",
    "    hasil = a - b\n",
    "elif operator == '*':\n",
    "    hasil = a * b\n",
    "elif operator == '/':\n",
    "    hasil = a / b\n",
    "else:\n",
    "    print('Operator anda salah')\n",
    "\n",
    "print(f'Hasil perhitungan dari {a} {operator} {b} adalah: ', hasil)"
   ]
  }
 ],
 "metadata": {
  "kernelspec": {
   "display_name": "Python 3",
   "language": "python",
   "name": "python3"
  },
  "language_info": {
   "codemirror_mode": {
    "name": "ipython",
    "version": 3
   },
   "file_extension": ".py",
   "mimetype": "text/x-python",
   "name": "python",
   "nbconvert_exporter": "python",
   "pygments_lexer": "ipython3",
   "version": "3.8.5"
  }
 },
 "nbformat": 4,
 "nbformat_minor": 4
}
